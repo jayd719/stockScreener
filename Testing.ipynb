{
 "cells": [
  {
   "cell_type": "code",
   "execution_count": 1,
   "id": "c8be4193-8d37-4dca-8240-bbc4eaa3b6fa",
   "metadata": {},
   "outputs": [],
   "source": [
    "import pandas as pd"
   ]
  },
  {
   "cell_type": "code",
   "execution_count": 2,
   "id": "70bb3d2d-8b4a-410b-b4a8-95d9286813e9",
   "metadata": {},
   "outputs": [
    {
     "name": "stdout",
     "output_type": "stream",
     "text": [
      "2.3.0\n"
     ]
    }
   ],
   "source": [
    "print(pd.__version__)"
   ]
  },
  {
   "cell_type": "code",
   "execution_count": 3,
   "id": "1bd804b4-0875-41ce-b792-c8a6e6d058cf",
   "metadata": {},
   "outputs": [],
   "source": [
    "file = 'this.csv'"
   ]
  },
  {
   "cell_type": "code",
   "execution_count": 4,
   "id": "029f7bd9-39c8-4809-a0ef-27a13c902e1d",
   "metadata": {},
   "outputs": [],
   "source": [
    "df =  pd.read_csv(file)"
   ]
  },
  {
   "cell_type": "code",
   "execution_count": 5,
   "id": "9f103915-818c-4e50-beae-36fbf27558e5",
   "metadata": {},
   "outputs": [
    {
     "data": {
      "application/vnd.microsoft.datawrangler.viewer.v0+json": {
       "columns": [
        {
         "name": "index",
         "rawType": "int64",
         "type": "integer"
        },
        {
         "name": "Unnamed: 0",
         "rawType": "int64",
         "type": "integer"
        },
        {
         "name": "Company Name",
         "rawType": "object",
         "type": "string"
        },
        {
         "name": "Symbol",
         "rawType": "object",
         "type": "string"
        },
        {
         "name": "Exchange",
         "rawType": "object",
         "type": "string"
        },
        {
         "name": "Currency",
         "rawType": "object",
         "type": "string"
        },
        {
         "name": "Country",
         "rawType": "object",
         "type": "string"
        },
        {
         "name": "Sector",
         "rawType": "object",
         "type": "string"
        },
        {
         "name": "Industry",
         "rawType": "object",
         "type": "string"
        },
        {
         "name": "Website",
         "rawType": "object",
         "type": "string"
        },
        {
         "name": "Full-Time Employees",
         "rawType": "int64",
         "type": "integer"
        },
        {
         "name": "Insider Ownership (%)",
         "rawType": "float64",
         "type": "float"
        },
        {
         "name": "Institutional Ownership (%)",
         "rawType": "float64",
         "type": "float"
        },
        {
         "name": "Market Cap ($B)",
         "rawType": "float64",
         "type": "float"
        },
        {
         "name": "Enterprise Value ($B)",
         "rawType": "float64",
         "type": "float"
        },
        {
         "name": "Shares Outstanding (B)",
         "rawType": "float64",
         "type": "float"
        },
        {
         "name": "Float Shares (B)",
         "rawType": "float64",
         "type": "float"
        },
        {
         "name": "Book Value/Share ($)",
         "rawType": "float64",
         "type": "float"
        },
        {
         "name": "EV/EBITDA",
         "rawType": "float64",
         "type": "float"
        },
        {
         "name": "EV/Revenue",
         "rawType": "float64",
         "type": "float"
        },
        {
         "name": "Current Price ($)",
         "rawType": "float64",
         "type": "float"
        },
        {
         "name": "Open ($)",
         "rawType": "float64",
         "type": "float"
        },
        {
         "name": "Previous Close ($)",
         "rawType": "float64",
         "type": "float"
        },
        {
         "name": "Day High ($)",
         "rawType": "float64",
         "type": "float"
        },
        {
         "name": "Day Low ($)",
         "rawType": "float64",
         "type": "float"
        },
        {
         "name": "52-Week High ($)",
         "rawType": "float64",
         "type": "float"
        },
        {
         "name": "52-Week Low ($)",
         "rawType": "float64",
         "type": "float"
        },
        {
         "name": "50-Day MA ($)",
         "rawType": "float64",
         "type": "float"
        },
        {
         "name": "200-Day MA ($)",
         "rawType": "float64",
         "type": "float"
        },
        {
         "name": "Volume",
         "rawType": "int64",
         "type": "integer"
        },
        {
         "name": "Avg Volume",
         "rawType": "int64",
         "type": "integer"
        },
        {
         "name": "EPS (TTM)",
         "rawType": "float64",
         "type": "float"
        },
        {
         "name": "EPS (Forward)",
         "rawType": "float64",
         "type": "float"
        },
        {
         "name": "PE Ratio (Trailing)",
         "rawType": "float64",
         "type": "float"
        },
        {
         "name": "PE Ratio (Forward)",
         "rawType": "float64",
         "type": "float"
        },
        {
         "name": "PEG Ratio",
         "rawType": "float64",
         "type": "float"
        },
        {
         "name": "Profit Margin (%)",
         "rawType": "object",
         "type": "string"
        },
        {
         "name": "Operating Margin (%)",
         "rawType": "object",
         "type": "string"
        },
        {
         "name": "ROA (%)",
         "rawType": "object",
         "type": "string"
        },
        {
         "name": "ROE (%)",
         "rawType": "object",
         "type": "string"
        },
        {
         "name": "Operating CF ($B)",
         "rawType": "float64",
         "type": "float"
        },
        {
         "name": "Free CF ($B)",
         "rawType": "float64",
         "type": "float"
        },
        {
         "name": "CapEx ($B)",
         "rawType": "float64",
         "type": "float"
        },
        {
         "name": "Total Debt ($B)",
         "rawType": "float64",
         "type": "float"
        },
        {
         "name": "Debt to Equity",
         "rawType": "float64",
         "type": "float"
        },
        {
         "name": "Quick Ratio",
         "rawType": "float64",
         "type": "float"
        },
        {
         "name": "Current Ratio",
         "rawType": "float64",
         "type": "float"
        },
        {
         "name": "Dividend Rate ($)",
         "rawType": "float64",
         "type": "float"
        },
        {
         "name": "Dividend Yield (%)",
         "rawType": "float64",
         "type": "float"
        },
        {
         "name": "Payout Ratio",
         "rawType": "object",
         "type": "string"
        },
        {
         "name": "Ex-Dividend Date",
         "rawType": "int64",
         "type": "integer"
        },
        {
         "name": "Revenue Growth YoY",
         "rawType": "object",
         "type": "string"
        },
        {
         "name": "Earnings Growth YoY",
         "rawType": "object",
         "type": "unknown"
        },
        {
         "name": "Earnings Date",
         "rawType": "float64",
         "type": "float"
        },
        {
         "name": "Last Split Date",
         "rawType": "int64",
         "type": "integer"
        },
        {
         "name": "Last Split Factor",
         "rawType": "object",
         "type": "string"
        }
       ],
       "ref": "c463bc79-736d-486d-9430-171662b3a6d3",
       "rows": [
        [
         "0",
         "0",
         "Apple Inc.",
         "AAPL",
         "NMS",
         "USD",
         "United States",
         "Technology",
         "Consumer Electronics",
         "https://www.apple.com",
         "164000",
         "2.08",
         "62.83",
         "3103.96",
         "3114.07",
         "14.936",
         "14.911",
         "4.47",
         "22.43",
         "7.78",
         "207.82",
         "206.66",
         "205.17",
         "210.19",
         "206.14",
         "260.1",
         "169.21",
         "203.06",
         "223.18",
         "77921627",
         "64081645",
         "6.42",
         "8.31",
         "32.37",
         "25.01",
         null,
         "24.3%",
         "31.03%",
         "23.81%",
         "138.01%",
         "109.56",
         "97.25",
         null,
         "98.19",
         "146.99",
         "0.68",
         "0.82",
         "1.04",
         "51.0",
         "15.58%",
         "1747008000",
         "5.1%",
         "7.8%",
         null,
         "1598832000",
         "4:1"
        ],
        [
         "1",
         "1",
         "Microsoft Corporation",
         "MSFT",
         "NMS",
         "USD",
         "United States",
         "Technology",
         "Software - Infrastructure",
         "https://www.microsoft.com",
         "228000",
         "0.06",
         "74.64",
         "3697.02",
         "3722.42",
         "7.433",
         "7.422",
         "43.3",
         "24.95",
         "13.79",
         "492.05",
         "496.47",
         "497.41",
         "498.05",
         "490.99",
         "500.76",
         "344.79",
         "450.68",
         "423.77",
         "19783079",
         "23365778",
         "12.79",
         "14.95",
         "38.47",
         "32.91",
         null,
         "35.79%",
         "45.67%",
         "14.58%",
         "33.61%",
         "130.71",
         "54.82",
         null,
         "105.02",
         "32.63",
         "1.24",
         "1.37",
         "3.32",
         "67.0",
         "24.42%",
         "1755734400",
         "13.3%",
         "17.7%",
         null,
         "1045526400",
         "2:1"
        ],
        [
         "2",
         "2",
         "RioCan Real Estate Investment Trust",
         "REI-UN.TO",
         "TOR",
         "CAD",
         "Canada",
         "Real Estate",
         "REIT - Retail",
         "https://www.riocan.com",
         "496",
         "0.32",
         "40.03",
         "5.26",
         "12.64",
         "0.297",
         "0.295",
         "24.62",
         "21.84",
         "10.79",
         "17.71",
         "17.59",
         "17.64",
         "17.83",
         "17.45",
         "20.83",
         "15.46",
         "17.35",
         "18.37",
         "744223",
         "748376",
         "0.87",
         "1.84",
         "20.36",
         "9.62",
         null,
         "22.25%",
         "-1.47%",
         "2.38%",
         "3.52%",
         "0.36",
         "-0.04",
         null,
         "7.43",
         "101.59",
         "0.25",
         "0.71",
         "1.16",
         "654.0",
         "128.51%",
         "1751241600",
         "-50.1%",
         null,
         null,
         "887068800",
         "2:1"
        ]
       ],
       "shape": {
        "columns": 55,
        "rows": 3
       }
      },
      "text/html": [
       "<div>\n",
       "<style scoped>\n",
       "    .dataframe tbody tr th:only-of-type {\n",
       "        vertical-align: middle;\n",
       "    }\n",
       "\n",
       "    .dataframe tbody tr th {\n",
       "        vertical-align: top;\n",
       "    }\n",
       "\n",
       "    .dataframe thead th {\n",
       "        text-align: right;\n",
       "    }\n",
       "</style>\n",
       "<table border=\"1\" class=\"dataframe\">\n",
       "  <thead>\n",
       "    <tr style=\"text-align: right;\">\n",
       "      <th></th>\n",
       "      <th>Unnamed: 0</th>\n",
       "      <th>Company Name</th>\n",
       "      <th>Symbol</th>\n",
       "      <th>Exchange</th>\n",
       "      <th>Currency</th>\n",
       "      <th>Country</th>\n",
       "      <th>Sector</th>\n",
       "      <th>Industry</th>\n",
       "      <th>Website</th>\n",
       "      <th>Full-Time Employees</th>\n",
       "      <th>...</th>\n",
       "      <th>Current Ratio</th>\n",
       "      <th>Dividend Rate ($)</th>\n",
       "      <th>Dividend Yield (%)</th>\n",
       "      <th>Payout Ratio</th>\n",
       "      <th>Ex-Dividend Date</th>\n",
       "      <th>Revenue Growth YoY</th>\n",
       "      <th>Earnings Growth YoY</th>\n",
       "      <th>Earnings Date</th>\n",
       "      <th>Last Split Date</th>\n",
       "      <th>Last Split Factor</th>\n",
       "    </tr>\n",
       "  </thead>\n",
       "  <tbody>\n",
       "    <tr>\n",
       "      <th>0</th>\n",
       "      <td>0</td>\n",
       "      <td>Apple Inc.</td>\n",
       "      <td>AAPL</td>\n",
       "      <td>NMS</td>\n",
       "      <td>USD</td>\n",
       "      <td>United States</td>\n",
       "      <td>Technology</td>\n",
       "      <td>Consumer Electronics</td>\n",
       "      <td>https://www.apple.com</td>\n",
       "      <td>164000</td>\n",
       "      <td>...</td>\n",
       "      <td>0.82</td>\n",
       "      <td>1.04</td>\n",
       "      <td>51.0</td>\n",
       "      <td>15.58%</td>\n",
       "      <td>1747008000</td>\n",
       "      <td>5.1%</td>\n",
       "      <td>7.8%</td>\n",
       "      <td>NaN</td>\n",
       "      <td>1598832000</td>\n",
       "      <td>4:1</td>\n",
       "    </tr>\n",
       "    <tr>\n",
       "      <th>1</th>\n",
       "      <td>1</td>\n",
       "      <td>Microsoft Corporation</td>\n",
       "      <td>MSFT</td>\n",
       "      <td>NMS</td>\n",
       "      <td>USD</td>\n",
       "      <td>United States</td>\n",
       "      <td>Technology</td>\n",
       "      <td>Software - Infrastructure</td>\n",
       "      <td>https://www.microsoft.com</td>\n",
       "      <td>228000</td>\n",
       "      <td>...</td>\n",
       "      <td>1.37</td>\n",
       "      <td>3.32</td>\n",
       "      <td>67.0</td>\n",
       "      <td>24.42%</td>\n",
       "      <td>1755734400</td>\n",
       "      <td>13.3%</td>\n",
       "      <td>17.7%</td>\n",
       "      <td>NaN</td>\n",
       "      <td>1045526400</td>\n",
       "      <td>2:1</td>\n",
       "    </tr>\n",
       "    <tr>\n",
       "      <th>2</th>\n",
       "      <td>2</td>\n",
       "      <td>RioCan Real Estate Investment Trust</td>\n",
       "      <td>REI-UN.TO</td>\n",
       "      <td>TOR</td>\n",
       "      <td>CAD</td>\n",
       "      <td>Canada</td>\n",
       "      <td>Real Estate</td>\n",
       "      <td>REIT - Retail</td>\n",
       "      <td>https://www.riocan.com</td>\n",
       "      <td>496</td>\n",
       "      <td>...</td>\n",
       "      <td>0.71</td>\n",
       "      <td>1.16</td>\n",
       "      <td>654.0</td>\n",
       "      <td>128.51%</td>\n",
       "      <td>1751241600</td>\n",
       "      <td>-50.1%</td>\n",
       "      <td>NaN</td>\n",
       "      <td>NaN</td>\n",
       "      <td>887068800</td>\n",
       "      <td>2:1</td>\n",
       "    </tr>\n",
       "  </tbody>\n",
       "</table>\n",
       "<p>3 rows × 55 columns</p>\n",
       "</div>"
      ],
      "text/plain": [
       "   Unnamed: 0                         Company Name     Symbol Exchange  \\\n",
       "0           0                           Apple Inc.       AAPL      NMS   \n",
       "1           1                Microsoft Corporation       MSFT      NMS   \n",
       "2           2  RioCan Real Estate Investment Trust  REI-UN.TO      TOR   \n",
       "\n",
       "  Currency        Country       Sector                   Industry  \\\n",
       "0      USD  United States   Technology       Consumer Electronics   \n",
       "1      USD  United States   Technology  Software - Infrastructure   \n",
       "2      CAD         Canada  Real Estate              REIT - Retail   \n",
       "\n",
       "                     Website  Full-Time Employees  ...  Current Ratio  \\\n",
       "0      https://www.apple.com               164000  ...           0.82   \n",
       "1  https://www.microsoft.com               228000  ...           1.37   \n",
       "2     https://www.riocan.com                  496  ...           0.71   \n",
       "\n",
       "   Dividend Rate ($)  Dividend Yield (%)  Payout Ratio  Ex-Dividend Date  \\\n",
       "0               1.04                51.0        15.58%        1747008000   \n",
       "1               3.32                67.0        24.42%        1755734400   \n",
       "2               1.16               654.0       128.51%        1751241600   \n",
       "\n",
       "   Revenue Growth YoY  Earnings Growth YoY  Earnings Date  Last Split Date  \\\n",
       "0                5.1%                 7.8%            NaN       1598832000   \n",
       "1               13.3%                17.7%            NaN       1045526400   \n",
       "2              -50.1%                  NaN            NaN        887068800   \n",
       "\n",
       "   Last Split Factor  \n",
       "0                4:1  \n",
       "1                2:1  \n",
       "2                2:1  \n",
       "\n",
       "[3 rows x 55 columns]"
      ]
     },
     "execution_count": 5,
     "metadata": {},
     "output_type": "execute_result"
    }
   ],
   "source": [
    "df"
   ]
  },
  {
   "cell_type": "code",
   "execution_count": 6,
   "id": "12e96ca8-0ff2-4e2b-8ec8-603ec3abb6f6",
   "metadata": {},
   "outputs": [
    {
     "name": "stdout",
     "output_type": "stream",
     "text": [
      "<class 'pandas.core.frame.DataFrame'>\n",
      "RangeIndex: 3 entries, 0 to 2\n",
      "Data columns (total 55 columns):\n",
      " #   Column                       Non-Null Count  Dtype  \n",
      "---  ------                       --------------  -----  \n",
      " 0   Unnamed: 0                   3 non-null      int64  \n",
      " 1   Company Name                 3 non-null      object \n",
      " 2   Symbol                       3 non-null      object \n",
      " 3   Exchange                     3 non-null      object \n",
      " 4   Currency                     3 non-null      object \n",
      " 5   Country                      3 non-null      object \n",
      " 6   Sector                       3 non-null      object \n",
      " 7   Industry                     3 non-null      object \n",
      " 8   Website                      3 non-null      object \n",
      " 9   Full-Time Employees          3 non-null      int64  \n",
      " 10  Insider Ownership (%)        3 non-null      float64\n",
      " 11  Institutional Ownership (%)  3 non-null      float64\n",
      " 12  Market Cap ($B)              3 non-null      float64\n",
      " 13  Enterprise Value ($B)        3 non-null      float64\n",
      " 14  Shares Outstanding (B)       3 non-null      float64\n",
      " 15  Float Shares (B)             3 non-null      float64\n",
      " 16  Book Value/Share ($)         3 non-null      float64\n",
      " 17  EV/EBITDA                    3 non-null      float64\n",
      " 18  EV/Revenue                   3 non-null      float64\n",
      " 19  Current Price ($)            3 non-null      float64\n",
      " 20  Open ($)                     3 non-null      float64\n",
      " 21  Previous Close ($)           3 non-null      float64\n",
      " 22  Day High ($)                 3 non-null      float64\n",
      " 23  Day Low ($)                  3 non-null      float64\n",
      " 24  52-Week High ($)             3 non-null      float64\n",
      " 25  52-Week Low ($)              3 non-null      float64\n",
      " 26  50-Day MA ($)                3 non-null      float64\n",
      " 27  200-Day MA ($)               3 non-null      float64\n",
      " 28  Volume                       3 non-null      int64  \n",
      " 29  Avg Volume                   3 non-null      int64  \n",
      " 30  EPS (TTM)                    3 non-null      float64\n",
      " 31  EPS (Forward)                3 non-null      float64\n",
      " 32  PE Ratio (Trailing)          3 non-null      float64\n",
      " 33  PE Ratio (Forward)           3 non-null      float64\n",
      " 34  PEG Ratio                    0 non-null      float64\n",
      " 35  Profit Margin (%)            3 non-null      object \n",
      " 36  Operating Margin (%)         3 non-null      object \n",
      " 37  ROA (%)                      3 non-null      object \n",
      " 38  ROE (%)                      3 non-null      object \n",
      " 39  Operating CF ($B)            3 non-null      float64\n",
      " 40  Free CF ($B)                 3 non-null      float64\n",
      " 41  CapEx ($B)                   0 non-null      float64\n",
      " 42  Total Debt ($B)              3 non-null      float64\n",
      " 43  Debt to Equity               3 non-null      float64\n",
      " 44  Quick Ratio                  3 non-null      float64\n",
      " 45  Current Ratio                3 non-null      float64\n",
      " 46  Dividend Rate ($)            3 non-null      float64\n",
      " 47  Dividend Yield (%)           3 non-null      float64\n",
      " 48  Payout Ratio                 3 non-null      object \n",
      " 49  Ex-Dividend Date             3 non-null      int64  \n",
      " 50  Revenue Growth YoY           3 non-null      object \n",
      " 51  Earnings Growth YoY          2 non-null      object \n",
      " 52  Earnings Date                0 non-null      float64\n",
      " 53  Last Split Date              3 non-null      int64  \n",
      " 54  Last Split Factor            3 non-null      object \n",
      "dtypes: float64(33), int64(6), object(16)\n",
      "memory usage: 1.4+ KB\n"
     ]
    }
   ],
   "source": [
    "df.info()"
   ]
  },
  {
   "cell_type": "code",
   "execution_count": 7,
   "id": "c30c58a8-f834-4e76-b382-24a2575f376b",
   "metadata": {},
   "outputs": [
    {
     "data": {
      "application/vnd.microsoft.datawrangler.viewer.v0+json": {
       "columns": [
        {
         "name": "index",
         "rawType": "object",
         "type": "string"
        },
        {
         "name": "0",
         "rawType": "float64",
         "type": "float"
        }
       ],
       "ref": "11ccdae7-2138-4cb4-8066-07bd4e76166c",
       "rows": [
        [
         "Unnamed: 0",
         "0.0"
        ],
        [
         "Company Name",
         "0.0"
        ],
        [
         "Symbol",
         "0.0"
        ],
        [
         "Exchange",
         "0.0"
        ],
        [
         "Currency",
         "0.0"
        ],
        [
         "Country",
         "0.0"
        ],
        [
         "Sector",
         "0.0"
        ],
        [
         "Industry",
         "0.0"
        ],
        [
         "Website",
         "0.0"
        ],
        [
         "Full-Time Employees",
         "0.0"
        ],
        [
         "Insider Ownership (%)",
         "0.0"
        ],
        [
         "Institutional Ownership (%)",
         "0.0"
        ],
        [
         "Market Cap ($B)",
         "0.0"
        ],
        [
         "Enterprise Value ($B)",
         "0.0"
        ],
        [
         "Shares Outstanding (B)",
         "0.0"
        ],
        [
         "Float Shares (B)",
         "0.0"
        ],
        [
         "Book Value/Share ($)",
         "0.0"
        ],
        [
         "EV/EBITDA",
         "0.0"
        ],
        [
         "EV/Revenue",
         "0.0"
        ],
        [
         "Current Price ($)",
         "0.0"
        ],
        [
         "Open ($)",
         "0.0"
        ],
        [
         "Previous Close ($)",
         "0.0"
        ],
        [
         "Day High ($)",
         "0.0"
        ],
        [
         "Day Low ($)",
         "0.0"
        ],
        [
         "52-Week High ($)",
         "0.0"
        ],
        [
         "52-Week Low ($)",
         "0.0"
        ],
        [
         "50-Day MA ($)",
         "0.0"
        ],
        [
         "200-Day MA ($)",
         "0.0"
        ],
        [
         "Volume",
         "0.0"
        ],
        [
         "Avg Volume",
         "0.0"
        ],
        [
         "EPS (TTM)",
         "0.0"
        ],
        [
         "EPS (Forward)",
         "0.0"
        ],
        [
         "PE Ratio (Trailing)",
         "0.0"
        ],
        [
         "PE Ratio (Forward)",
         "0.0"
        ],
        [
         "PEG Ratio",
         "inf"
        ],
        [
         "Profit Margin (%)",
         "0.0"
        ],
        [
         "Operating Margin (%)",
         "0.0"
        ],
        [
         "ROA (%)",
         "0.0"
        ],
        [
         "ROE (%)",
         "0.0"
        ],
        [
         "Operating CF ($B)",
         "0.0"
        ],
        [
         "Free CF ($B)",
         "0.0"
        ],
        [
         "CapEx ($B)",
         "inf"
        ],
        [
         "Total Debt ($B)",
         "0.0"
        ],
        [
         "Debt to Equity",
         "0.0"
        ],
        [
         "Quick Ratio",
         "0.0"
        ],
        [
         "Current Ratio",
         "0.0"
        ],
        [
         "Dividend Rate ($)",
         "0.0"
        ],
        [
         "Dividend Yield (%)",
         "0.0"
        ],
        [
         "Payout Ratio",
         "0.0"
        ],
        [
         "Ex-Dividend Date",
         "0.0"
        ]
       ],
       "shape": {
        "columns": 1,
        "rows": 55
       }
      },
      "text/plain": [
       "Unnamed: 0                     0.0\n",
       "Company Name                   0.0\n",
       "Symbol                         0.0\n",
       "Exchange                       0.0\n",
       "Currency                       0.0\n",
       "Country                        0.0\n",
       "Sector                         0.0\n",
       "Industry                       0.0\n",
       "Website                        0.0\n",
       "Full-Time Employees            0.0\n",
       "Insider Ownership (%)          0.0\n",
       "Institutional Ownership (%)    0.0\n",
       "Market Cap ($B)                0.0\n",
       "Enterprise Value ($B)          0.0\n",
       "Shares Outstanding (B)         0.0\n",
       "Float Shares (B)               0.0\n",
       "Book Value/Share ($)           0.0\n",
       "EV/EBITDA                      0.0\n",
       "EV/Revenue                     0.0\n",
       "Current Price ($)              0.0\n",
       "Open ($)                       0.0\n",
       "Previous Close ($)             0.0\n",
       "Day High ($)                   0.0\n",
       "Day Low ($)                    0.0\n",
       "52-Week High ($)               0.0\n",
       "52-Week Low ($)                0.0\n",
       "50-Day MA ($)                  0.0\n",
       "200-Day MA ($)                 0.0\n",
       "Volume                         0.0\n",
       "Avg Volume                     0.0\n",
       "EPS (TTM)                      0.0\n",
       "EPS (Forward)                  0.0\n",
       "PE Ratio (Trailing)            0.0\n",
       "PE Ratio (Forward)             0.0\n",
       "PEG Ratio                      inf\n",
       "Profit Margin (%)              0.0\n",
       "Operating Margin (%)           0.0\n",
       "ROA (%)                        0.0\n",
       "ROE (%)                        0.0\n",
       "Operating CF ($B)              0.0\n",
       "Free CF ($B)                   0.0\n",
       "CapEx ($B)                     inf\n",
       "Total Debt ($B)                0.0\n",
       "Debt to Equity                 0.0\n",
       "Quick Ratio                    0.0\n",
       "Current Ratio                  0.0\n",
       "Dividend Rate ($)              0.0\n",
       "Dividend Yield (%)             0.0\n",
       "Payout Ratio                   0.0\n",
       "Ex-Dividend Date               0.0\n",
       "Revenue Growth YoY             0.0\n",
       "Earnings Growth YoY            0.5\n",
       "Earnings Date                  inf\n",
       "Last Split Date                0.0\n",
       "Last Split Factor              0.0\n",
       "dtype: float64"
      ]
     },
     "execution_count": 7,
     "metadata": {},
     "output_type": "execute_result"
    }
   ],
   "source": [
    "df.isna().sum()/df.count()"
   ]
  },
  {
   "cell_type": "code",
   "execution_count": 8,
   "id": "0946f228-f234-4c2e-962d-5ff2c005c685",
   "metadata": {},
   "outputs": [],
   "source": [
    "indust = df.Industry.unique()"
   ]
  },
  {
   "cell_type": "code",
   "execution_count": 9,
   "id": "bb98f887-01da-4a5f-b3d0-7e80c0a48917",
   "metadata": {},
   "outputs": [
    {
     "data": {
      "text/plain": [
       "3"
      ]
     },
     "execution_count": 9,
     "metadata": {},
     "output_type": "execute_result"
    }
   ],
   "source": [
    "len(indust)"
   ]
  },
  {
   "cell_type": "code",
   "execution_count": 10,
   "id": "d0041b9e-4c82-487c-a72b-0177faaadcc6",
   "metadata": {},
   "outputs": [],
   "source": [
    "industry_eps = df.groupby(\"Industry\",as_index=False)[\"EPS (TTM)\"].mean().sort_values(by=\"EPS (TTM)\",ascending=False) # type: ignore"
   ]
  },
  {
   "cell_type": "code",
   "execution_count": 11,
   "id": "0f4ae893-f8ad-449a-af4e-3e803156d966",
   "metadata": {},
   "outputs": [
    {
     "data": {
      "application/vnd.microsoft.datawrangler.viewer.v0+json": {
       "columns": [
        {
         "name": "index",
         "rawType": "int64",
         "type": "integer"
        },
        {
         "name": "Industry",
         "rawType": "object",
         "type": "string"
        },
        {
         "name": "EPS (TTM)",
         "rawType": "float64",
         "type": "float"
        }
       ],
       "ref": "36fffbed-9432-4669-b9d3-1ed1ac6047b1",
       "rows": [
        [
         "2",
         "Software - Infrastructure",
         "12.79"
        ],
        [
         "0",
         "Consumer Electronics",
         "6.42"
        ],
        [
         "1",
         "REIT - Retail",
         "0.87"
        ]
       ],
       "shape": {
        "columns": 2,
        "rows": 3
       }
      },
      "text/html": [
       "<div>\n",
       "<style scoped>\n",
       "    .dataframe tbody tr th:only-of-type {\n",
       "        vertical-align: middle;\n",
       "    }\n",
       "\n",
       "    .dataframe tbody tr th {\n",
       "        vertical-align: top;\n",
       "    }\n",
       "\n",
       "    .dataframe thead th {\n",
       "        text-align: right;\n",
       "    }\n",
       "</style>\n",
       "<table border=\"1\" class=\"dataframe\">\n",
       "  <thead>\n",
       "    <tr style=\"text-align: right;\">\n",
       "      <th></th>\n",
       "      <th>Industry</th>\n",
       "      <th>EPS (TTM)</th>\n",
       "    </tr>\n",
       "  </thead>\n",
       "  <tbody>\n",
       "    <tr>\n",
       "      <th>2</th>\n",
       "      <td>Software - Infrastructure</td>\n",
       "      <td>12.79</td>\n",
       "    </tr>\n",
       "    <tr>\n",
       "      <th>0</th>\n",
       "      <td>Consumer Electronics</td>\n",
       "      <td>6.42</td>\n",
       "    </tr>\n",
       "    <tr>\n",
       "      <th>1</th>\n",
       "      <td>REIT - Retail</td>\n",
       "      <td>0.87</td>\n",
       "    </tr>\n",
       "  </tbody>\n",
       "</table>\n",
       "</div>"
      ],
      "text/plain": [
       "                    Industry  EPS (TTM)\n",
       "2  Software - Infrastructure      12.79\n",
       "0       Consumer Electronics       6.42\n",
       "1              REIT - Retail       0.87"
      ]
     },
     "execution_count": 11,
     "metadata": {},
     "output_type": "execute_result"
    }
   ],
   "source": [
    "industry_eps.head()"
   ]
  },
  {
   "cell_type": "code",
   "execution_count": 12,
   "id": "d2642434-7b0c-43f5-9073-9341abece7b0",
   "metadata": {},
   "outputs": [
    {
     "data": {
      "application/vnd.microsoft.datawrangler.viewer.v0+json": {
       "columns": [
        {
         "name": "index",
         "rawType": "int64",
         "type": "integer"
        },
        {
         "name": "Industry",
         "rawType": "object",
         "type": "string"
        },
        {
         "name": "EPS (TTM)",
         "rawType": "float64",
         "type": "float"
        }
       ],
       "ref": "c01d1e2d-1298-4b2f-9f37-a7e0b24833b9",
       "rows": [
        [
         "2",
         "Software - Infrastructure",
         "12.79"
        ],
        [
         "0",
         "Consumer Electronics",
         "6.42"
        ],
        [
         "1",
         "REIT - Retail",
         "0.87"
        ]
       ],
       "shape": {
        "columns": 2,
        "rows": 3
       }
      },
      "text/html": [
       "<div>\n",
       "<style scoped>\n",
       "    .dataframe tbody tr th:only-of-type {\n",
       "        vertical-align: middle;\n",
       "    }\n",
       "\n",
       "    .dataframe tbody tr th {\n",
       "        vertical-align: top;\n",
       "    }\n",
       "\n",
       "    .dataframe thead th {\n",
       "        text-align: right;\n",
       "    }\n",
       "</style>\n",
       "<table border=\"1\" class=\"dataframe\">\n",
       "  <thead>\n",
       "    <tr style=\"text-align: right;\">\n",
       "      <th></th>\n",
       "      <th>Industry</th>\n",
       "      <th>EPS (TTM)</th>\n",
       "    </tr>\n",
       "  </thead>\n",
       "  <tbody>\n",
       "    <tr>\n",
       "      <th>2</th>\n",
       "      <td>Software - Infrastructure</td>\n",
       "      <td>12.79</td>\n",
       "    </tr>\n",
       "    <tr>\n",
       "      <th>0</th>\n",
       "      <td>Consumer Electronics</td>\n",
       "      <td>6.42</td>\n",
       "    </tr>\n",
       "    <tr>\n",
       "      <th>1</th>\n",
       "      <td>REIT - Retail</td>\n",
       "      <td>0.87</td>\n",
       "    </tr>\n",
       "  </tbody>\n",
       "</table>\n",
       "</div>"
      ],
      "text/plain": [
       "                    Industry  EPS (TTM)\n",
       "2  Software - Infrastructure      12.79\n",
       "0       Consumer Electronics       6.42\n",
       "1              REIT - Retail       0.87"
      ]
     },
     "execution_count": 12,
     "metadata": {},
     "output_type": "execute_result"
    }
   ],
   "source": [
    "industry_eps.tail()"
   ]
  },
  {
   "cell_type": "code",
   "execution_count": null,
   "id": "137dd5a9-a4d9-4a3c-a06a-55a797503aaf",
   "metadata": {},
   "outputs": [],
   "source": []
  }
 ],
 "metadata": {
  "kernelspec": {
   "display_name": ".venv",
   "language": "python",
   "name": "python3"
  },
  "language_info": {
   "codemirror_mode": {
    "name": "ipython",
    "version": 3
   },
   "file_extension": ".py",
   "mimetype": "text/x-python",
   "name": "python",
   "nbconvert_exporter": "python",
   "pygments_lexer": "ipython3",
   "version": "3.13.3"
  }
 },
 "nbformat": 4,
 "nbformat_minor": 5
}
